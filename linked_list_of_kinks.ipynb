{
 "cells": [
  {
   "cell_type": "code",
   "execution_count": 31,
   "metadata": {},
   "outputs": [],
   "source": [
    "import numpy as np"
   ]
  },
  {
   "cell_type": "code",
   "execution_count": 55,
   "metadata": {},
   "outputs": [],
   "source": [
    "class kink:\n",
    "\n",
    "    def __init__(self,τ,n,source,dest):\n",
    "        self.τ = τ\n",
    "        self.n = n\n",
    "        self.source = source\n",
    "        self.dest = dest\n",
    "        self.next,self.prev = None,None"
   ]
  },
  {
   "cell_type": "code",
   "execution_count": 56,
   "metadata": {},
   "outputs": [
    {
     "name": "stdout",
     "output_type": "stream",
     "text": [
      "[0.11379738 0.22250786 0.49507217 0.76205103]\n"
     ]
    }
   ],
   "source": [
    "τ = np.random.random(4)\n",
    "τ = np.sort(τ)\n",
    "print(τ)"
   ]
  },
  {
   "cell_type": "code",
   "execution_count": 57,
   "metadata": {},
   "outputs": [],
   "source": [
    "kink_0 = kink(0,1,0,0)\n",
    "ckink = kink_0\n",
    "for i in range(4):\n",
    "    ckink.next = kink(τ[i],1,0,0)\n",
    "    ckink = ckink.next"
   ]
  },
  {
   "cell_type": "code",
   "execution_count": 58,
   "metadata": {},
   "outputs": [
    {
     "name": "stdout",
     "output_type": "stream",
     "text": [
      "0\n",
      "0.11379738110708171\n",
      "0.22250785796785855\n",
      "0.4950721700498488\n",
      "0.7620510344667505\n"
     ]
    }
   ],
   "source": [
    "ckink = kink_0\n",
    "while ckink.next != None:\n",
    "    print(ckink.τ)\n",
    "    ckink = ckink.next\n",
    "print(ckink.τ) "
   ]
  },
  {
   "cell_type": "markdown",
   "metadata": {},
   "source": [
    "## Delete $\\tau = 0.589$"
   ]
  },
  {
   "cell_type": "code",
   "execution_count": 59,
   "metadata": {},
   "outputs": [
    {
     "name": "stdout",
     "output_type": "stream",
     "text": [
      "0.22250785796785855\n",
      "0.4950721700498488\n"
     ]
    }
   ],
   "source": [
    "ckink = kink_0\n",
    "pkink = None\n",
    "cτ = 0.495072170\n",
    "while ckink.τ < cτ:\n",
    "    pkink = ckink\n",
    "    ckink = ckink.next\n",
    "\n",
    "print(pkink.τ)\n",
    "print(ckink.τ)\n",
    "\n",
    "pkink.next = ckink.next"
   ]
  },
  {
   "cell_type": "code",
   "execution_count": 60,
   "metadata": {},
   "outputs": [
    {
     "name": "stdout",
     "output_type": "stream",
     "text": [
      "0\n",
      "0.11379738110708171\n",
      "0.22250785796785855\n",
      "0.7620510344667505\n"
     ]
    }
   ],
   "source": [
    "ckink = kink_0\n",
    "while ckink.next != None:\n",
    "    print(ckink.τ)\n",
    "    ckink = ckink.next\n",
    "print(ckink.τ) "
   ]
  },
  {
   "cell_type": "markdown",
   "metadata": {},
   "source": [
    "## Insert $\\tau = 0.71$"
   ]
  },
  {
   "cell_type": "code",
   "execution_count": 51,
   "metadata": {},
   "outputs": [
    {
     "data": {
      "text/plain": [
       "0"
      ]
     },
     "execution_count": 51,
     "metadata": {},
     "output_type": "execute_result"
    }
   ],
   "source": [
    "kink_0.τ"
   ]
  },
  {
   "cell_type": "code",
   "execution_count": 63,
   "metadata": {},
   "outputs": [],
   "source": [
    "ckink = kink_0\n",
    "pkink = None\n",
    "cτ = 0.71\n",
    "while ckink.τ < cτ:\n",
    "    pkink = ckink\n",
    "    ckink = ckink.next\n",
    "\n",
    "tkink = ckink\n",
    "pkink.next = kink(cτ,1,0,0)\n",
    "ckink.next = tkink"
   ]
  },
  {
   "cell_type": "code",
   "execution_count": 64,
   "metadata": {},
   "outputs": [
    {
     "name": "stdout",
     "output_type": "stream",
     "text": [
      "0\n",
      "0.11379738110708171\n",
      "0.22250785796785855\n",
      "0.71\n"
     ]
    }
   ],
   "source": [
    "ckink = kink_0\n",
    "while ckink.next != None:\n",
    "    print(ckink.τ)\n",
    "    ckink = ckink.next\n",
    "print(ckink.τ) "
   ]
  },
  {
   "cell_type": "code",
   "execution_count": null,
   "metadata": {},
   "outputs": [],
   "source": [
    "[0]->[0.020143718201752092]->[0.20160630038070115]->[0.5895390287187261]->[0.8217791923053848]"
   ]
  }
 ],
 "metadata": {
  "kernelspec": {
   "display_name": "Python 3",
   "language": "python",
   "name": "python3"
  },
  "language_info": {
   "codemirror_mode": {
    "name": "ipython",
    "version": 3
   },
   "file_extension": ".py",
   "mimetype": "text/x-python",
   "name": "python",
   "nbconvert_exporter": "python",
   "pygments_lexer": "ipython3",
   "version": "3.7.7"
  }
 },
 "nbformat": 4,
 "nbformat_minor": 4
}
