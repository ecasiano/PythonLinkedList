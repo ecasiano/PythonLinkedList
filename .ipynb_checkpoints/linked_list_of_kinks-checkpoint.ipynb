{
 "cells": [
  {
   "cell_type": "code",
   "execution_count": 308,
   "metadata": {},
   "outputs": [],
   "source": [
    "# OLD structure:  [[0,n0,(src,dest)],[tau_1,n_1,(src,dest)]],[tau_2,n_2,(src,dest)]]\n",
    "# NEW structure: [DoublyLinkedList(kink0->kink1->kink2)]"
   ]
  },
  {
   "cell_type": "code",
   "execution_count": 309,
   "metadata": {},
   "outputs": [],
   "source": [
    "import numpy as np"
   ]
  },
  {
   "cell_type": "code",
   "execution_count": 1,
   "metadata": {},
   "outputs": [],
   "source": [
    "class kink:\n",
    "\n",
    "    def __init__(self,tau,n,src,dest):\n",
    "        '''head kink constructor'''\n",
    "        # Data\n",
    "        self.tau = tau       # Imaginary time\n",
    "        self.n = n           # Number of particles (after kink)\n",
    "        self.src = src       # Source site\n",
    "        self.dest = dest     # Destination site\n",
    "        \n",
    "        # Links\n",
    "        self.next,self.prev = None,None"
   ]
  },
  {
   "cell_type": "code",
   "execution_count": 311,
   "metadata": {},
   "outputs": [
    {
     "name": "stdout",
     "output_type": "stream",
     "text": [
      "[0.14797541 0.34435201 0.44030125]\n",
      "[0 1 1]\n"
     ]
    }
   ],
   "source": [
    "# Randomly generate set of kink times\n",
    "N_flats = 3\n",
    "tau_list = np.random.random(N_flats)\n",
    "tau_list = np.sort(tau_list)\n",
    "print(tau_list)\n",
    "\n",
    "# Generate place holder array with particle numbers\n",
    "N = 3 # Total particles\n",
    "n_list = np.asarray(np.random.random(N_flats)*N,dtype=int)\n",
    "print(n_list)"
   ]
  },
  {
   "cell_type": "code",
   "execution_count": 312,
   "metadata": {},
   "outputs": [],
   "source": [
    "kink_0 = kink(0,1,0,0) # The initial or trivial kink\n",
    "prev_kink = kink_0\n",
    "for i,tau in enumerate(tau_list):\n",
    "    prev_kink.next = kink(tau_list[i],n_list[i],0,0) # Change the 'next' member to a new kink\n",
    "    prev_kink = prev_kink.next"
   ]
  },
  {
   "cell_type": "code",
   "execution_count": 314,
   "metadata": {},
   "outputs": [
    {
     "name": "stdout",
     "output_type": "stream",
     "text": [
      "τ=0.000000000000000,n=1, (0, 0)\n",
      "τ=0.147975414518657,n=0, (0, 0)\n",
      "τ=0.344352013353722,n=1, (0, 0)\n",
      "τ=0.440301252656622,n=1, (0, 0)\n"
     ]
    }
   ],
   "source": [
    "# Traverse the linked list and print out times and no. of particles\n",
    "prev_kink = kink_0\n",
    "ctr = 0\n",
    "while prev_kink.next != None: # Recall that the last node will have kink.next = None\n",
    "    print(\"τ=%.15f,n=%d,\"%(prev_kink.tau,prev_kink.n),(prev_kink.src,prev_kink.dest)) \n",
    "    prev_kink = prev_kink.next\n",
    "    ctr+=1\n",
    "    if ctr==2: tau_remove = prev_kink.tau # This is for later\n",
    "\n",
    "print(\"τ=%.15f,n=%d,\"%(prev_kink.tau,prev_kink.n),(prev_kink.src,prev_kink.dest)) "
   ]
  },
  {
   "cell_type": "markdown",
   "metadata": {},
   "source": [
    "## Delete $\\tau = 0.589$"
   ]
  },
  {
   "cell_type": "code",
   "execution_count": 315,
   "metadata": {},
   "outputs": [
    {
     "data": {
      "text/plain": [
       "0.34435201335372156"
      ]
     },
     "execution_count": 315,
     "metadata": {},
     "output_type": "execute_result"
    }
   ],
   "source": [
    "tau_remove # This was chosen in a previous cell"
   ]
  },
  {
   "cell_type": "code",
   "execution_count": 316,
   "metadata": {},
   "outputs": [],
   "source": [
    "# Delete a kink at tau=tau_remove\n",
    "prev_kink = None\n",
    "curr_kink = kink_0\n",
    "while curr_kink.tau < tau_remove:\n",
    "    prev_kink = curr_kink\n",
    "    curr_kink = curr_kink.next\n",
    "\n",
    "prev_kink.next = curr_kink.next;"
   ]
  },
  {
   "cell_type": "code",
   "execution_count": 317,
   "metadata": {},
   "outputs": [
    {
     "name": "stdout",
     "output_type": "stream",
     "text": [
      "0 1\n",
      "0.14797541451865748 0\n",
      "0.44030125265662234 1\n"
     ]
    }
   ],
   "source": [
    "# Just traverse and print out the doubly linked list\n",
    "prev_kink = kink_0\n",
    "while prev_kink.next != None:\n",
    "    print(prev_kink.tau,prev_kink.n)\n",
    "    prev_kink = prev_kink.next\n",
    "print(prev_kink.tau,prev_kink.n)"
   ]
  },
  {
   "cell_type": "markdown",
   "metadata": {},
   "source": [
    "## Insert $\\tau = 0.71$"
   ]
  },
  {
   "cell_type": "code",
   "execution_count": 51,
   "metadata": {},
   "outputs": [
    {
     "data": {
      "text/plain": [
       "0"
      ]
     },
     "execution_count": 51,
     "metadata": {},
     "output_type": "execute_result"
    }
   ],
   "source": [
    "kink_0.tau"
   ]
  },
  {
   "cell_type": "code",
   "execution_count": 63,
   "metadata": {},
   "outputs": [],
   "source": [
    "prev_kink = kink_0\n",
    "pkink = None\n",
    "tau_insert = 0.71\n",
    "while prev_kink.tau < tau_insert:\n",
    "    pkink = prev_kink\n",
    "    prev_kink = prev_kink.next\n",
    "\n",
    "tkink = prev_kink\n",
    "pkink.next = kink(tau_inser,1,0,0)\n",
    "prev_kink.next = tkink"
   ]
  },
  {
   "cell_type": "code",
   "execution_count": 64,
   "metadata": {},
   "outputs": [
    {
     "name": "stdout",
     "output_type": "stream",
     "text": [
      "0\n",
      "0.11379738110708171\n",
      "0.22250785796785855\n",
      "0.71\n"
     ]
    }
   ],
   "source": [
    "prev_kink = kink_0\n",
    "while prev_kink.next != None:\n",
    "    print(prev_kink.tau)\n",
    "    prev_kink = prev_kink.next\n",
    "print(prev_kink.tau) "
   ]
  },
  {
   "cell_type": "code",
   "execution_count": null,
   "metadata": {},
   "outputs": [],
   "source": [
    "[0]->[0.020143718201752092]->[0.20160630038070115]->[0.5895390287187261]->[0.8217791923053848]"
   ]
  }
 ],
 "metadata": {
  "kernelspec": {
   "display_name": "Python 3",
   "language": "python",
   "name": "python3"
  },
  "language_info": {
   "codemirror_mode": {
    "name": "ipython",
    "version": 3
   },
   "file_extension": ".py",
   "mimetype": "text/x-python",
   "name": "python",
   "nbconvert_exporter": "python",
   "pygments_lexer": "ipython3",
   "version": "3.7.3"
  }
 },
 "nbformat": 4,
 "nbformat_minor": 4
}
